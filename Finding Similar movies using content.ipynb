{
 "cells": [
  {
   "cell_type": "markdown",
   "metadata": {},
   "source": [
    "# Content Based Filtering\n",
    "\n",
    "In this notebook we will be working again with movie data but this one is a bit different as it does not contain ratings but only 1 csv with movie content information. The aim is to build a simple content based recommender that finds the top 10 movies to be receommended to a user who already likes a given movie.\n",
    "\n",
    "## Data Description\n",
    "**id** - ID of the movie title\n",
    "\n",
    "**title** - Movie Title\n",
    "\n",
    "**keywords** - Predefined keywords for each movie\n",
    "\n",
    "**cast** - Entire cast of the movie\n",
    "\n",
    "**genres** - list of genres corresponding to the movie\n",
    "\n",
    "**director** - Director of the movie"
   ]
  },
  {
   "cell_type": "markdown",
   "metadata": {},
   "source": [
    "## Table of Content\n",
    "\n",
    "[1. Reading Dataset & Basic Exploration](#Reading-Dataset)\n",
    "\n",
    "[2. Create Item Representation using various movie features](#Item-Representation)\n",
    "\n",
    "[3. Finding most similar movies based on content](#similar-movies)\n",
    "\n",
    "[4. Conclusion](#conclusion)"
   ]
  },
  {
   "cell_type": "code",
   "execution_count": 1,
   "metadata": {},
   "outputs": [],
   "source": [
    "#Importing required libraries\n",
    "import pandas as pd\n",
    "import numpy as np\n",
    "\n",
    "from sklearn.feature_extraction.text import CountVectorizer\n",
    "from sklearn.metrics.pairwise import cosine_similarity"
   ]
  },
  {
   "cell_type": "markdown",
   "metadata": {},
   "source": [
    "## 1. Reading Data & Basic Exploration <a class=\"anchor\" id=\"Reading-Dataset\"></a>"
   ]
  },
  {
   "cell_type": "code",
   "execution_count": 2,
   "metadata": {},
   "outputs": [
    {
     "data": {
      "text/plain": [
       "Index(['id', 'title', 'keywords', 'cast', 'genres', 'director'], dtype='object')"
      ]
     },
     "execution_count": 2,
     "metadata": {},
     "output_type": "execute_result"
    }
   ],
   "source": [
    "#Reading movie dataset containing detailed movie information\n",
    "df = pd.read_csv(\"movie_info.csv\")\n",
    "df.columns"
   ]
  },
  {
   "cell_type": "markdown",
   "metadata": {},
   "source": [
    "**View a sample of the data**"
   ]
  },
  {
   "cell_type": "code",
   "execution_count": 3,
   "metadata": {
    "scrolled": false
   },
   "outputs": [
    {
     "data": {
      "text/html": [
       "<div>\n",
       "<style scoped>\n",
       "    .dataframe tbody tr th:only-of-type {\n",
       "        vertical-align: middle;\n",
       "    }\n",
       "\n",
       "    .dataframe tbody tr th {\n",
       "        vertical-align: top;\n",
       "    }\n",
       "\n",
       "    .dataframe thead th {\n",
       "        text-align: right;\n",
       "    }\n",
       "</style>\n",
       "<table border=\"1\" class=\"dataframe\">\n",
       "  <thead>\n",
       "    <tr style=\"text-align: right;\">\n",
       "      <th></th>\n",
       "      <th>3675</th>\n",
       "      <th>4789</th>\n",
       "      <th>1443</th>\n",
       "    </tr>\n",
       "  </thead>\n",
       "  <tbody>\n",
       "    <tr>\n",
       "      <th>id</th>\n",
       "      <td>12498</td>\n",
       "      <td>39851</td>\n",
       "      <td>13496</td>\n",
       "    </tr>\n",
       "    <tr>\n",
       "      <th>title</th>\n",
       "      <td>Sling Blade</td>\n",
       "      <td>Clean</td>\n",
       "      <td>American Outlaws</td>\n",
       "    </tr>\n",
       "    <tr>\n",
       "      <th>keywords</th>\n",
       "      <td>independent film repair shop southern death th...</td>\n",
       "      <td>addiction recovering drug addict estranged son</td>\n",
       "      <td>sheriff horse outlaw jesse james cole younger</td>\n",
       "    </tr>\n",
       "    <tr>\n",
       "      <th>cast</th>\n",
       "      <td>Billy Bob Thornton Dwight Yoakam J. T. Walsh J...</td>\n",
       "      <td>Maggie Cheung Nick Nolte B\\u00e9atrice Dalle J...</td>\n",
       "      <td>Colin Farrell Scott Caan Ali Larter Gabriel Ma...</td>\n",
       "    </tr>\n",
       "    <tr>\n",
       "      <th>genres</th>\n",
       "      <td>Drama</td>\n",
       "      <td>Drama</td>\n",
       "      <td>Action Western</td>\n",
       "    </tr>\n",
       "    <tr>\n",
       "      <th>director</th>\n",
       "      <td>Billy Bob Thornton</td>\n",
       "      <td>Olivier Assayas</td>\n",
       "      <td>Les Mayfield</td>\n",
       "    </tr>\n",
       "  </tbody>\n",
       "</table>\n",
       "</div>"
      ],
      "text/plain": [
       "                                                       3675  \\\n",
       "id                                                    12498   \n",
       "title                                           Sling Blade   \n",
       "keywords  independent film repair shop southern death th...   \n",
       "cast      Billy Bob Thornton Dwight Yoakam J. T. Walsh J...   \n",
       "genres                                                Drama   \n",
       "director                                 Billy Bob Thornton   \n",
       "\n",
       "                                                       4789  \\\n",
       "id                                                    39851   \n",
       "title                                                 Clean   \n",
       "keywords     addiction recovering drug addict estranged son   \n",
       "cast      Maggie Cheung Nick Nolte B\\u00e9atrice Dalle J...   \n",
       "genres                                                Drama   \n",
       "director                                    Olivier Assayas   \n",
       "\n",
       "                                                       1443  \n",
       "id                                                    13496  \n",
       "title                                      American Outlaws  \n",
       "keywords      sheriff horse outlaw jesse james cole younger  \n",
       "cast      Colin Farrell Scott Caan Ali Larter Gabriel Ma...  \n",
       "genres                                       Action Western  \n",
       "director                                       Les Mayfield  "
      ]
     },
     "execution_count": 3,
     "metadata": {},
     "output_type": "execute_result"
    }
   ],
   "source": [
    "#Eyeballing dataset\n",
    "df.sample(3).T"
   ]
  },
  {
   "cell_type": "markdown",
   "metadata": {},
   "source": [
    "**Number of unique movie titles**"
   ]
  },
  {
   "cell_type": "code",
   "execution_count": 4,
   "metadata": {},
   "outputs": [
    {
     "data": {
      "text/plain": [
       "4800"
      ]
     },
     "execution_count": 4,
     "metadata": {},
     "output_type": "execute_result"
    }
   ],
   "source": [
    "# unique movies\n",
    "df['title'].nunique()"
   ]
  },
  {
   "cell_type": "markdown",
   "metadata": {},
   "source": [
    "##  2. Create Item Representation using various movie features <a class=\"anchor\" id=\"Item-Representation\"></a>"
   ]
  },
  {
   "cell_type": "markdown",
   "metadata": {},
   "source": [
    "**Select content features from the dataframe**"
   ]
  },
  {
   "cell_type": "code",
   "execution_count": 5,
   "metadata": {},
   "outputs": [],
   "source": [
    "#list of content features\n",
    "features = ['keywords','cast','genres','director']"
   ]
  },
  {
   "cell_type": "markdown",
   "metadata": {},
   "source": [
    "**Fill null values with empty string and combine all the selected features.**"
   ]
  },
  {
   "cell_type": "code",
   "execution_count": 6,
   "metadata": {},
   "outputs": [],
   "source": [
    "#Filling missing values with spaces\n",
    "for feature in features:\n",
    "    df[feature] = df[feature].fillna('')"
   ]
  },
  {
   "cell_type": "code",
   "execution_count": 7,
   "metadata": {},
   "outputs": [],
   "source": [
    "#Concatenating strings from each of the content features to get the entire information in 1 column\n",
    "def combine_features(row):\n",
    "    return row['keywords'] +\" \"+row['cast']+\" \"+row[\"genres\"]+\" \"+row[\"director\"]\n",
    "\n",
    "df[\"combined_features\"] = df.apply(combine_features,axis=1)"
   ]
  },
  {
   "cell_type": "code",
   "execution_count": 8,
   "metadata": {
    "scrolled": true
   },
   "outputs": [
    {
     "name": "stdout",
     "output_type": "stream",
     "text": [
      "Combined Features:\n",
      " ['casino monte carlo painting caper independent film Nick Nolte Tch\\\\u00e9ky Karyo Nutsa Kukhianidze Marc Lavoine Sa\\\\u00efd Taghmaoui Crime Drama Thriller Neil Jordan']\n"
     ]
    }
   ],
   "source": [
    "#Printing a sample of combinedd features\n",
    "print (\"Combined Features:\\n\", df[\"combined_features\"].sample(1).values)"
   ]
  },
  {
   "cell_type": "markdown",
   "metadata": {},
   "source": [
    "**Creating count vectors for all movies**"
   ]
  },
  {
   "cell_type": "code",
   "execution_count": 9,
   "metadata": {},
   "outputs": [],
   "source": [
    "#Creating frequency of top 500 terms across all movies using count vectorizor\n",
    "cv = CountVectorizer(ngram_range=(1, 2),max_features=500)\n",
    "count_matrix = cv.fit_transform(df[\"combined_features\"])"
   ]
  },
  {
   "cell_type": "code",
   "execution_count": 10,
   "metadata": {},
   "outputs": [
    {
     "data": {
      "text/plain": [
       "(4803, 500)"
      ]
     },
     "execution_count": 10,
     "metadata": {},
     "output_type": "execute_result"
    }
   ],
   "source": [
    "#View the shape of count matrix\n",
    "count_matrix.todense().shape"
   ]
  },
  {
   "cell_type": "markdown",
   "metadata": {},
   "source": [
    "**Compute the Cosine Similarity based on the count_matrix**"
   ]
  },
  {
   "cell_type": "code",
   "execution_count": 11,
   "metadata": {},
   "outputs": [],
   "source": [
    "#Finding cosine similarity between frequency or count vectors for each movie\n",
    "cosine_sim = cosine_similarity(count_matrix)"
   ]
  },
  {
   "cell_type": "code",
   "execution_count": 12,
   "metadata": {},
   "outputs": [
    {
     "data": {
      "text/plain": [
       "(4803, 4803)"
      ]
     },
     "execution_count": 12,
     "metadata": {},
     "output_type": "execute_result"
    }
   ],
   "source": [
    "#Similarity Matrix Shape\n",
    "cosine_sim.shape"
   ]
  },
  {
   "cell_type": "markdown",
   "metadata": {},
   "source": [
    "## 3. Finding most similar movies based on content <a class=\"anchor\" id=\"similar-movies\"></a>"
   ]
  },
  {
   "cell_type": "code",
   "execution_count": 13,
   "metadata": {},
   "outputs": [],
   "source": [
    "#Picking a random movie title\n",
    "movie_user_likes = \"The Dark Knight Rises\""
   ]
  },
  {
   "cell_type": "markdown",
   "metadata": {},
   "source": [
    "**Get index of this movie from its title**\n",
    "\n",
    "We will define a function to get the title from the index and one for index from the title. This is to extract relevant movie from the similarity matrix"
   ]
  },
  {
   "cell_type": "code",
   "execution_count": 14,
   "metadata": {},
   "outputs": [],
   "source": [
    "#Get title from index\n",
    "def get_title_from_index(index):\n",
    "    return df[df.index == index][\"title\"].values[0]\n",
    "\n",
    "#Get index from title\n",
    "def get_index_from_title(title):\n",
    "    return df[df.title == title].index.values[0]"
   ]
  },
  {
   "cell_type": "code",
   "execution_count": 15,
   "metadata": {},
   "outputs": [],
   "source": [
    "# Get the movie index of the \"The Dark Knight Rises\"\n",
    "movie_index = get_index_from_title(movie_user_likes)"
   ]
  },
  {
   "cell_type": "markdown",
   "metadata": {},
   "source": [
    "**Get the similar movies & sorting on the basis of similarity (most similar to least similar)**"
   ]
  },
  {
   "cell_type": "code",
   "execution_count": 16,
   "metadata": {},
   "outputs": [],
   "source": [
    "#Storing list of similar movies\n",
    "similar_movies =  list(enumerate(cosine_sim[movie_index]))\n",
    "\n",
    "#Sorting with similarity score\n",
    "sorted_similar_movies = sorted(similar_movies,key=lambda x:x[1],reverse=True)"
   ]
  },
  {
   "cell_type": "markdown",
   "metadata": {},
   "source": [
    "**Print titles of first 10 movies**"
   ]
  },
  {
   "cell_type": "code",
   "execution_count": 17,
   "metadata": {},
   "outputs": [
    {
     "name": "stdout",
     "output_type": "stream",
     "text": [
      "The Dark Knight Rises\n",
      "Batman Begins\n",
      "The Dark Knight\n",
      "The Killer Inside Me\n",
      "Point Blank\n",
      "Hitman\n",
      "The Protector\n",
      "The Way of the Gun\n",
      "Bound by Honor\n",
      "Armored\n",
      "Harsh Times\n"
     ]
    }
   ],
   "source": [
    "#Top 10 similar movies to the Dark Knight Rises\n",
    "i=0\n",
    "for element in sorted_similar_movies:\n",
    "    print(get_title_from_index(element[0]))\n",
    "    i=i+1\n",
    "    if i>10:\n",
    "        break"
   ]
  },
  {
   "cell_type": "markdown",
   "metadata": {},
   "source": [
    "**Now let's define a function to get top 10 recommendations**"
   ]
  },
  {
   "cell_type": "code",
   "execution_count": 18,
   "metadata": {},
   "outputs": [],
   "source": [
    "def get_recommendations(movie_name):\n",
    "    movie_user_likes = movie_name\n",
    "\n",
    "    movie_index = get_index_from_title(movie_user_likes)\n",
    "\n",
    "    similar_movies =  list(enumerate(cosine_sim[movie_index]))\n",
    "\n",
    "    sorted_similar_movies = sorted(similar_movies,key=lambda x:x[1],reverse=True)\n",
    "\n",
    "    i=0\n",
    "    movies = []\n",
    "    for element in sorted_similar_movies:\n",
    "        movies.append(get_title_from_index(element[0]))\n",
    "        i=i+1\n",
    "        if i>10:\n",
    "            break\n",
    "            \n",
    "    return movies"
   ]
  },
  {
   "cell_type": "code",
   "execution_count": 19,
   "metadata": {
    "scrolled": true
   },
   "outputs": [
    {
     "data": {
      "text/plain": [
       "['Tangled',\n",
       " 'Pinocchio',\n",
       " 'Mulan',\n",
       " 'Roadside Romeo',\n",
       " 'Aladdin',\n",
       " 'Arthur and the Invisibles',\n",
       " \"A Turtle's Tale: Sammy's Adventures\",\n",
       " 'Dinosaur',\n",
       " 'Rugrats Go Wild',\n",
       " 'Anastasia',\n",
       " 'Fantasia']"
      ]
     },
     "execution_count": 19,
     "metadata": {},
     "output_type": "execute_result"
    }
   ],
   "source": [
    "get_recommendations('Tangled')"
   ]
  },
  {
   "cell_type": "code",
   "execution_count": 20,
   "metadata": {
    "scrolled": true
   },
   "outputs": [
    {
     "data": {
      "text/plain": [
       "['Batman Returns',\n",
       " 'Batman',\n",
       " 'The Book of Mormon Movie, Volume 1: The Journey',\n",
       " 'The Grace Card',\n",
       " 'Shooter',\n",
       " 'Flicka',\n",
       " 'The Dark Knight',\n",
       " 'Mi America',\n",
       " 'Fantastic 4: Rise of the Silver Surfer',\n",
       " 'High Heels and Low Lifes',\n",
       " 'Checkmate']"
      ]
     },
     "execution_count": 20,
     "metadata": {},
     "output_type": "execute_result"
    }
   ],
   "source": [
    "get_recommendations('Batman Returns')"
   ]
  },
  {
   "cell_type": "markdown",
   "metadata": {},
   "source": [
    "## 4. Conclusion <a class=\"anchor\" id=\"Reading-Dataset\"></a>\n",
    "Here, we have seen how one can use item features to find similarities between movies and hence use it to recommend movie. It works quite well as we can see here. As an exercise you may try to change the number of terms being used for count vectorizor and see if you can further improve the recommendations."
   ]
  }
 ],
 "metadata": {
  "kernelspec": {
   "display_name": "Python 3",
   "language": "python",
   "name": "python3"
  },
  "language_info": {
   "codemirror_mode": {
    "name": "ipython",
    "version": 3
   },
   "file_extension": ".py",
   "mimetype": "text/x-python",
   "name": "python",
   "nbconvert_exporter": "python",
   "pygments_lexer": "ipython3",
   "version": "3.7.6"
  }
 },
 "nbformat": 4,
 "nbformat_minor": 2
}
